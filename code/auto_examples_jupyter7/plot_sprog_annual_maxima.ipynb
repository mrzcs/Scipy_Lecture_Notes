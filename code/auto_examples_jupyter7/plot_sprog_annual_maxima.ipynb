{
  "cells": [
    {
      "cell_type": "code",
      "execution_count": null,
      "metadata": {
        "collapsed": false
      },
      "outputs": [],
      "source": [
        "%matplotlib inline"
      ]
    },
    {
      "cell_type": "markdown",
      "metadata": {},
      "source": [
        "\nThe Gumbell distribution, results\n=================================\n\nGenerate the exercise results on the Gumbell distribution\n\n"
      ]
    },
    {
      "cell_type": "code",
      "execution_count": null,
      "metadata": {
        "collapsed": false
      },
      "outputs": [],
      "source": [
        "import numpy as np\nfrom scipy.interpolate import UnivariateSpline\nimport matplotlib.pyplot as plt\n\n\ndef gumbell_dist(arr):\n    return -np.log(-np.log(arr))\n\nyears_nb = 21\nwspeeds = np.load('sprog-windspeeds.npy')\nmax_speeds = np.array([arr.max() for arr in np.array_split(wspeeds, years_nb)])\nsorted_max_speeds = np.sort(max_speeds)\n\ncprob = (np.arange(years_nb, dtype=np.float32) + 1)/(years_nb + 1)\ngprob = gumbell_dist(cprob)\nspeed_spline = UnivariateSpline(gprob, sorted_max_speeds, k=1)\nnprob = gumbell_dist(np.linspace(1e-3, 1-1e-3, 1e2))\nfitted_max_speeds = speed_spline(nprob)\n\nfifty_prob = gumbell_dist(49./50.)\nfifty_wind = speed_spline(fifty_prob)\n\nplt.figure()\nplt.bar(np.arange(years_nb) + 1, max_speeds)\nplt.axis('tight')\nplt.xlabel('Year')\nplt.ylabel('Annual wind speed maxima [$m/s$]')"
      ]
    }
  ],
  "metadata": {
    "kernelspec": {
      "display_name": "Python 3",
      "language": "python",
      "name": "python3"
    },
    "language_info": {
      "codemirror_mode": {
        "name": "ipython",
        "version": 3
      },
      "file_extension": ".py",
      "mimetype": "text/x-python",
      "name": "python",
      "nbconvert_exporter": "python",
      "pygments_lexer": "ipython3",
      "version": "3.6.8"
    }
  },
  "nbformat": 4,
  "nbformat_minor": 0
}